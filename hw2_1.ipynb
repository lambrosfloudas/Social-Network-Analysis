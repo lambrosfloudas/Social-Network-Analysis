{
 "cells": [
  {
   "cell_type": "code",
   "execution_count": 1,
   "id": "bbd850a7",
   "metadata": {},
   "outputs": [],
   "source": [
    "import snap\n",
    "import numpy as np\n",
    "from time import time"
   ]
  },
  {
   "cell_type": "code",
   "execution_count": 2,
   "id": "fc297a5e",
   "metadata": {},
   "outputs": [],
   "source": [
    "RN = 3352126\n",
    "Rnd = snap.TRnd(RN,0)"
   ]
  },
  {
   "cell_type": "code",
   "execution_count": 3,
   "id": "48ba25eb",
   "metadata": {},
   "outputs": [],
   "source": [
    "G1 = snap.GenRndGnm(snap.TUNGraph, 1000, 10000)"
   ]
  },
  {
   "cell_type": "code",
   "execution_count": 4,
   "id": "08a7b2b8",
   "metadata": {},
   "outputs": [],
   "source": [
    "G2 = snap.GenPrefAttach(1000, 5)"
   ]
  },
  {
   "cell_type": "code",
   "execution_count": 5,
   "id": "8a87d394",
   "metadata": {},
   "outputs": [],
   "source": [
    "G3 = snap.GenSmallWorld(1000, 5, 0.3)"
   ]
  },
  {
   "cell_type": "code",
   "execution_count": 6,
   "id": "f0fdca53",
   "metadata": {},
   "outputs": [],
   "source": [
    "def exercise1(Graph):\n",
    "    \n",
    "    list1 = [] \n",
    "    \n",
    "    for NI in Graph.Nodes():\n",
    "        DegCentr = Graph.GetDegreeCentr(NI.GetId())\n",
    "        list1.append(DegCentr)\n",
    "        \n",
    "    for NI in Graph.Nodes():\n",
    "        DegCentr = Graph.GetDegreeCentr(NI.GetId())\n",
    "        if DegCentr == max(list1):\n",
    "            print(\"Node %d has the highest Degree with a value of %f\" % (NI.GetId(), DegCentr))\n",
    "            break\n",
    "            \n",
    "    for NI in Graph.Nodes():\n",
    "        DegCentr = Graph.GetDegreeCentr(NI.GetId())\n",
    "        if DegCentr == min(list1):\n",
    "            print(\"Node %d has the lowest Degree with a value of %f\" % (NI.GetId(), DegCentr))\n",
    "            break\n",
    "            \n",
    "    Average_Degree = np.mean(list1)\n",
    "    print(f'The average degree of all Nodes is {Average_Degree}')\n",
    "    \n",
    "    degreevar = np.var(list1)\n",
    "    print(f'The variance of the degrees is {degreevar}')\n",
    "    \n",
    "    GraphClustCoeff = Graph.GetClustCf(-1)\n",
    "    list2 = []\n",
    "    \n",
    "    PRankH = Graph.GetPageRank()\n",
    "    \n",
    "    for item in PRankH:\n",
    "        list2.append(PRankH[item])\n",
    "        \n",
    "    for item in PRankH:\n",
    "        if PRankH[item] == max(list2):\n",
    "            print(\"Node %d has the highest PageRank with a value of %f\" % (item, PRankH[item]))"
   ]
  },
  {
   "cell_type": "code",
   "execution_count": 7,
   "id": "0a7b3b80",
   "metadata": {},
   "outputs": [
    {
     "name": "stdout",
     "output_type": "stream",
     "text": [
      "Node 279 has the highest Degree with a value of 0.034034\n",
      "Node 841 has the lowest Degree with a value of 0.008008\n",
      "The average degree of all Nodes is 0.02002002002002002\n",
      "The variance of the degrees is 1.8897776655534415e-05\n",
      "Node 279 has the highest PageRank with a value of 0.001608\n"
     ]
    }
   ],
   "source": [
    "exercise1(G1)"
   ]
  },
  {
   "cell_type": "code",
   "execution_count": 8,
   "id": "4a0785df",
   "metadata": {},
   "outputs": [
    {
     "name": "stdout",
     "output_type": "stream",
     "text": [
      "Node 1 has the highest Degree with a value of 0.131131\n",
      "Node 213 has the lowest Degree with a value of 0.005005\n",
      "The average degree of all Nodes is 0.00997997997997998\n",
      "The variance of the degrees is 0.0001192354516678841\n",
      "Node 1 has the highest PageRank with a value of 0.011391\n"
     ]
    }
   ],
   "source": [
    "exercise1(G2)"
   ]
  },
  {
   "cell_type": "code",
   "execution_count": 9,
   "id": "429cbd18",
   "metadata": {},
   "outputs": [
    {
     "name": "stdout",
     "output_type": "stream",
     "text": [
      "Node 413 has the highest Degree with a value of 0.016016\n",
      "Node 387 has the lowest Degree with a value of 0.006006\n",
      "The average degree of all Nodes is 0.009983983983983985\n",
      "The variance of the degrees is 2.337997657316977e-06\n",
      "Node 413 has the highest PageRank with a value of 0.001506\n"
     ]
    }
   ],
   "source": [
    "exercise1(G3)"
   ]
  },
  {
   "cell_type": "code",
   "execution_count": null,
   "id": "a90dd59f",
   "metadata": {},
   "outputs": [],
   "source": []
  }
 ],
 "metadata": {
  "kernelspec": {
   "display_name": "Python 3 (ipykernel)",
   "language": "python",
   "name": "python3"
  },
  "language_info": {
   "codemirror_mode": {
    "name": "ipython",
    "version": 3
   },
   "file_extension": ".py",
   "mimetype": "text/x-python",
   "name": "python",
   "nbconvert_exporter": "python",
   "pygments_lexer": "ipython3",
   "version": "3.9.7"
  }
 },
 "nbformat": 4,
 "nbformat_minor": 5
}
